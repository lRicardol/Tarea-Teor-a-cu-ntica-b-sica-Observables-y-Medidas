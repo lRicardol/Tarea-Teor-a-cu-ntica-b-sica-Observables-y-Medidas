{
 "cells": [
  {
   "cell_type": "code",
   "execution_count": null,
   "metadata": {},
   "outputs": [],
   "source": [
    "import numpy as np\n",
    "\n",
    "\n",
    "#Suba semanalmente sus avances a git\n",
    "#Simule el primer sistema cuántico descrito en la sección 4.1.\n",
    "#El sistema consiste en una partícula confinada a un conjunto discreto de posiciones en una línea. El simulador debe permitir especificar el número de posiciones y un vector ket de estado asignando las amplitudes.\n",
    "#1. El sistema debe calcular la probabilidad de encontrarlo en una posición en particular.\n",
    "#2. El sistema si se le da otro vector Ket debe buscar la probabilidad de transitar del primer vector al segundo.\n",
    "\n",
    "# Definir el vector de estado\n",
    "ket_psi = np.array([complex(0.6, 0.8), complex(0.3, -0.4), complex(0.5, 0.1)])\n",
    "\n",
    "# Probabilidad de encontrar la partícula en la posición j\n",
    "def probabilidad_en_posicion(ket, j):\n",
    "    return np.abs(ket[j])**2\n",
    "\n",
    "# Producto interno entre dos kets\n",
    "def producto_interno(ket1, ket2):\n",
    "    return np.vdot(ket1, ket2)\n",
    "\n",
    "# Probabilidad de transición\n",
    "def probabilidad_de_transicion(ket1, ket2):\n",
    "    return np.abs(producto_interno(ket1, ket2))**2\n",
    "\n",
    "# Ejemplo de uso\n",
    "print(\"Probabilidad de encontrar la partícula en la posición 1:\", probabilidad_en_posicion(ket_psi, 1))\n",
    "\n",
    "# Definir otro vector de estado\n",
    "ket_phi = np.array([complex(0.4, 0.6), complex(0.5, -0.3), complex(0.7, 0.2)])\n",
    "print(\"Probabilidad de transición entre los dos estados:\", probabilidad_de_transicion(ket_psi, ket_phi))\n"
   ]
  }
 ],
 "metadata": {
  "kernelspec": {
   "display_name": ".venv",
   "language": "python",
   "name": "python3"
  },
  "language_info": {
   "name": "python",
   "version": "3.11.6"
  }
 },
 "nbformat": 4,
 "nbformat_minor": 2
}
